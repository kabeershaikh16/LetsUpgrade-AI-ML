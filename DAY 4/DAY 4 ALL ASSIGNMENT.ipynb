{
 "cells": [
  {
   "cell_type": "markdown",
   "metadata": {},
   "source": [
    "# Mathematical operations on complex numbers"
   ]
  },
  {
   "cell_type": "markdown",
   "metadata": {},
   "source": [
    "The mathematical operations that can be performed on complex numbers are 1.Addition 2.Subtraction. \n",
    "3.Multiplication 4.Division Floor division and Module are not possible on complex numbers the programs gives an error"
   ]
  },
  {
   "cell_type": "code",
   "execution_count": 1,
   "metadata": {},
   "outputs": [
    {
     "name": "stdout",
     "output_type": "stream",
     "text": [
      "Enter first complex number 7-4j\n",
      "Enter second complex number 9+90j\n",
      "Addition = (16+86j) \n",
      " Subtraction = (-2-94j) \n",
      " Multiplication = (423+594j) \n",
      " Division = (-0.0363036303630363-0.0814081408140814j)\n"
     ]
    }
   ],
   "source": [
    "a=complex(input(\"Enter first complex number \"))\n",
    "b=complex(input(\"Enter second complex number \"))\n",
    "print(\"Addition =\",a+b,\"\\n Subtraction =\",a-b,\"\\n Multiplication =\",a*b,\"\\n Division =\",a/b)"
   ]
  },
  {
   "cell_type": "markdown",
   "metadata": {},
   "source": [
    "# range() funtion\n",
    "1.range() is a funtion that accepts1, 2 or 3 arguements .\n",
    "\n",
    "2.It is used to basicaly carry out counting from a specific number to a specific number .\n",
    "\n",
    "3.In one arguement the funtions will count from 0 to that number .\n",
    "\n",
    "4.In case of two arguements where the firt arguement is the starting point and the second arguement is th eending point the funtion will count starting from the first arguement to the second arguement with gaps of 1 .\n",
    "\n",
    "5.In case of 3 arguements the first two arguements remain the same the third arguement is the gaps the funtion takes while countimg from the first arguement to the second arguement\n",
    "\n",
    "6.This funtion also finds its use in the for loop when the foor loop is to be repeated till a sppecific count .\n",
    "\n"
   ]
  },
  {
   "cell_type": "code",
   "execution_count": 3,
   "metadata": {},
   "outputs": [
    {
     "name": "stdout",
     "output_type": "stream",
     "text": [
      "[0, 1, 2, 3, 4, 5, 6, 7, 8, 9, 10, 11, 12, 13, 14, 15, 16, 17, 18, 19]\n",
      "[20, 21, 22, 23, 24, 25, 26, 27, 28, 29]\n",
      "[0, 2, 4, 6, 8, 10, 12, 14, 16, 18, 20, 22, 24, 26, 28]\n",
      "30\n",
      "31\n",
      "32\n",
      "33\n",
      "34\n",
      "35\n",
      "36\n",
      "37\n",
      "38\n",
      "39\n"
     ]
    }
   ],
   "source": [
    "print(list(range(20)))\n",
    "print(list(range(20,30)))\n",
    "print(list(range(0,30,2)))\n",
    "for i in range(30,40):\n",
    "    print(i)\n"
   ]
  },
  {
   "cell_type": "markdown",
   "metadata": {},
   "source": [
    "# Q3 If else application"
   ]
  },
  {
   "cell_type": "code",
   "execution_count": 4,
   "metadata": {},
   "outputs": [
    {
     "name": "stdout",
     "output_type": "stream",
     "text": [
      "Enter first number 30\n",
      "Enter the second number 5\n",
      "Subtraction is equal to 25\n"
     ]
    }
   ],
   "source": [
    "a=float (input(\"Enter first number \"))\n",
    "b=float(input(\"Enter the second number \"))\n",
    "sub=a-b\n",
    "if sub>25:\n",
    "    print(\"Subtraction is greater than 25 \\t Hence multiplication is =\",a*b)\n",
    "else:\n",
    "    if sub<25:\n",
    "        print(\"Subtraction is lesser than 25 \\t Hence division is = \",a/b)\n",
    "    else:\n",
    "        print(\"Subtraction is equal to 25\")"
   ]
  },
  {
   "cell_type": "markdown",
   "metadata": {},
   "source": [
    "# Q4 Checking is divisible by 2 or not"
   ]
  },
  {
   "cell_type": "code",
   "execution_count": 6,
   "metadata": {},
   "outputs": [
    {
     "name": "stdout",
     "output_type": "stream",
     "text": [
      "1  is not divisible by 2\n",
      "99  is not divisible by 2\n",
      "58  is divisible by 2 \t Hence Square of number minus 2 = 3362\n",
      "20  is divisible by 2 \t Hence Square of number minus 2 = 398\n",
      "13  is not divisible by 2\n",
      "54  is divisible by 2 \t Hence Square of number minus 2 = 2914\n",
      "66  is divisible by 2 \t Hence Square of number minus 2 = 4354\n",
      "77  is not divisible by 2\n",
      "3  is not divisible by 2\n",
      "44  is divisible by 2 \t Hence Square of number minus 2 = 1934\n"
     ]
    }
   ],
   "source": [
    "lst=[1,99,58,20,13,54,66,77,3,44]\n",
    "for i in lst:\n",
    "    if i%2==0:\n",
    "        print(i,\" is divisible by 2 \\t Hence Square of number minus 2 =\",(i**2)-2)\n",
    "    else:\n",
    "        print(i,\" is not divisible by 2\")"
   ]
  },
  {
   "cell_type": "markdown",
   "metadata": {},
   "source": [
    "# Q 5 is the half greater than 7"
   ]
  },
  {
   "cell_type": "code",
   "execution_count": 7,
   "metadata": {},
   "outputs": [
    {
     "name": "stdout",
     "output_type": "stream",
     "text": [
      "20 \t As  10.0 >7\n",
      "56 \t As  28.0 >7\n",
      "87 \t As  43.5 >7\n",
      "894 \t As  447.0 >7\n",
      "67 \t As  33.5 >7\n",
      "84 \t As  42.0 >7\n"
     ]
    }
   ],
   "source": [
    "lst1=[20,10,56,87,4,894,67,84,6,14]\n",
    "for i in lst1:\n",
    "    if (i/2)>7:\n",
    "        print(i,\"\\t As \",i/2,\">7\")"
   ]
  },
  {
   "cell_type": "code",
   "execution_count": null,
   "metadata": {},
   "outputs": [],
   "source": []
  }
 ],
 "metadata": {
  "kernelspec": {
   "display_name": "Python 3",
   "language": "python",
   "name": "python3"
  },
  "language_info": {
   "codemirror_mode": {
    "name": "ipython",
    "version": 3
   },
   "file_extension": ".py",
   "mimetype": "text/x-python",
   "name": "python",
   "nbconvert_exporter": "python",
   "pygments_lexer": "ipython3",
   "version": "3.7.6"
  }
 },
 "nbformat": 4,
 "nbformat_minor": 4
}
