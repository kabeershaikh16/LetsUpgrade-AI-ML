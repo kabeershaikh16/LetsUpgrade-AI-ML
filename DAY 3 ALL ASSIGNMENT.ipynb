{
 "cells": [
  {
   "cell_type": "markdown",
   "metadata": {},
   "source": [
    "# QUESTION 1. SUBTRACTING 2 COMPLEX NUMBERS\n"
   ]
  },
  {
   "cell_type": "code",
   "execution_count": null,
   "metadata": {},
   "outputs": [],
   "source": [
    "a=1+2j\n",
    "b=3+5j\n",
    "c=a-b\n",
    "c"
   ]
  },
  {
   "cell_type": "code",
   "execution_count": 2,
   "metadata": {},
   "outputs": [
    {
     "data": {
      "text/plain": [
       "complex"
      ]
     },
     "execution_count": 2,
     "metadata": {},
     "output_type": "execute_result"
    }
   ],
   "source": [
    "type(a)"
   ]
  },
  {
   "cell_type": "code",
   "execution_count": 3,
   "metadata": {},
   "outputs": [
    {
     "name": "stdout",
     "output_type": "stream",
     "text": [
      "Enter first complex number:1+2j\n",
      "Enter second complex number:3+2j\n"
     ]
    },
    {
     "data": {
      "text/plain": [
       "(-2+0j)"
      ]
     },
     "execution_count": 3,
     "metadata": {},
     "output_type": "execute_result"
    }
   ],
   "source": [
    "d=complex(input(\"Enter first complex number:\"))\n",
    "e=complex(input(\"Enter second complex number:\"))\n",
    "f=d-e\n",
    "f"
   ]
  },
  {
   "cell_type": "markdown",
   "metadata": {},
   "source": [
    "# QUESTION 2 FOURTH ROOT NUMBER"
   ]
  },
  {
   "cell_type": "code",
   "execution_count": 5,
   "metadata": {},
   "outputs": [
    {
     "name": "stdout",
     "output_type": "stream",
     "text": [
      "Enter a number whose fourth root is to be found out:20\n"
     ]
    },
    {
     "data": {
      "text/plain": [
       "2.114742526881128"
      ]
     },
     "execution_count": 5,
     "metadata": {},
     "output_type": "execute_result"
    }
   ],
   "source": [
    "a=int(input(\"Enter a number whose fourth root is to be found out:\"))\n",
    "b=a**(1/4)\n",
    "b"
   ]
  },
  {
   "cell_type": "markdown",
   "metadata": {},
   "source": [
    "# QUESTION 3 SWAPPING TWO NUMBERS USING TWO VARIABLES"
   ]
  },
  {
   "cell_type": "code",
   "execution_count": 10,
   "metadata": {},
   "outputs": [
    {
     "name": "stdout",
     "output_type": "stream",
     "text": [
      "Enter First Number: 1001\n",
      "Enter Second Number: 999\n",
      "Value of num1 before swapping:  1001\n",
      "Value of num2 before swapping:  999\n",
      "Value of num1 after swapping:  999\n",
      "Value of num2 after swapping:  1001\n"
     ]
    }
   ],
   "source": [
    "num1 = input('Enter First Number: ')\n",
    "num2 = input('Enter Second Number: ')\n",
    "\n",
    "print(\"Value of num1 before swapping: \", num1)\n",
    "print(\"Value of num2 before swapping: \", num2)\n",
    "\n",
    "temp = num1\n",
    "num1 = num2\n",
    "num2 = temp\n",
    "\n",
    "print(\"Value of num1 after swapping: \", num1)\n",
    "print(\"Value of num2 after swapping: \", num2)"
   ]
  },
  {
   "cell_type": "markdown",
   "metadata": {},
   "source": [
    "# QUESTION 4 SWAPPING TWO NUMBERS WITHOUT USING TWO VARIABLES"
   ]
  },
  {
   "cell_type": "code",
   "execution_count": 11,
   "metadata": {},
   "outputs": [
    {
     "name": "stdout",
     "output_type": "stream",
     "text": [
      "After Swapping: x = 5  y = 10\n"
     ]
    }
   ],
   "source": [
    "x = 10\n",
    "y = 5\n",
    "\n",
    "# x now becomes 15 \n",
    "x = x + y \n",
    "\n",
    "# y becomes 10 \n",
    "y = x - y \n",
    "\n",
    "# x becomes 5 \n",
    "x = x - y \n",
    "print(\"After Swapping: x =\", x, \" y =\", y); "
   ]
  },
  {
   "cell_type": "markdown",
   "metadata": {},
   "source": [
    "# QUESTION 5 Conversion of fahrenheit to kelvin and celsius\n"
   ]
  },
  {
   "cell_type": "code",
   "execution_count": 6,
   "metadata": {},
   "outputs": [
    {
     "name": "stdout",
     "output_type": "stream",
     "text": [
      "Enter temp in fahrenheit 89\n",
      "Fahrenheit= 89 F Celsius= 31.666666666666668 C Kelvin= 304.8166666666667 K\n"
     ]
    }
   ],
   "source": [
    "f=int(input(\"Enter temp in fahrenheit \"))\n",
    "c=(f-32)*(5/9)\n",
    "k=(f+459.67)*(5/9)\n",
    "print(\"Fahrenheit=\",f,\"F Celsius=\",c,\"C Kelvin=\",k,\"K\")\n"
   ]
  },
  {
   "cell_type": "markdown",
   "metadata": {},
   "source": [
    "# QUESTION 6 Different data types"
   ]
  },
  {
   "cell_type": "code",
   "execution_count": 8,
   "metadata": {},
   "outputs": [
    {
     "name": "stdout",
     "output_type": "stream",
     "text": [
      "Type of a <class 'int'> \n",
      "Type of b= <class 'int'> \n",
      "Type of c= <class 'complex'> \n",
      "Type of d= <class 'float'> \n",
      "Type of e= <class 'str'>\n"
     ]
    }
   ],
   "source": [
    "a=20\n",
    "b=200000000000\n",
    "c=20+40j\n",
    "d=20.73874\n",
    "e=\"This is my day 3 assignment \"\n",
    "print(\"Type of a\",type(a),\"\\nType of b=\",type(b),\"\\nType of c=\",type(c),\"\\nType of d=\",type(d),\"\\nType of e=\",type(e))"
   ]
  },
  {
   "cell_type": "code",
   "execution_count": null,
   "metadata": {},
   "outputs": [],
   "source": []
  },
  {
   "cell_type": "markdown",
   "metadata": {},
   "source": [
    "# Instruction on creating an GitHub Account and submitting the Link\n",
    "1.Go to GitHub and create an account.\n",
    "\n",
    "2.After creating and account create a repository.\n",
    "\n",
    "3.Name the repository as LetsUpgrade AI-ML.\n",
    "\n",
    "4.Write the description as Assignment.\n",
    "\n",
    "5.Let the repository be Public .\n",
    "\n",
    "6.Create a folder by clicking on create new file and after the name add/.\n",
    "\n",
    "7.Name the folder as the days asssinment you are submitting .\n",
    "\n",
    "8.Upload all the notebooks of that days assigment .\n",
    "\n",
    "9.Copy the URL and paste it into the Google submission form of the specific day ."
   ]
  },
  {
   "cell_type": "code",
   "execution_count": 2,
   "metadata": {},
   "outputs": [
    {
     "data": {
      "text/plain": [
       "'C:\\\\Users\\\\usama'"
      ]
     },
     "execution_count": 2,
     "metadata": {},
     "output_type": "execute_result"
    }
   ],
   "source": [
    "import os\n",
    "os.getcwd()"
   ]
  },
  {
   "cell_type": "code",
   "execution_count": null,
   "metadata": {},
   "outputs": [],
   "source": []
  }
 ],
 "metadata": {
  "kernelspec": {
   "display_name": "Python 3",
   "language": "python",
   "name": "python3"
  },
  "language_info": {
   "codemirror_mode": {
    "name": "ipython",
    "version": 3
   },
   "file_extension": ".py",
   "mimetype": "text/x-python",
   "name": "python",
   "nbconvert_exporter": "python",
   "pygments_lexer": "ipython3",
   "version": "3.7.6"
  }
 },
 "nbformat": 4,
 "nbformat_minor": 4
}
